{
 "cells": [
  {
   "cell_type": "markdown",
   "id": "0e65b8d4",
   "metadata": {},
   "source": [
    "💡 **Question 1**\n",
    "Given three integer arrays arr1, arr2 and arr3 **sorted** in **strictly increasing** order, return a sorted array of **only** the integers that appeared in **all** three arrays.\n",
    "\n",
    "**Example 1:**\n",
    "\n",
    "Input: arr1 = [1,2,3,4,5], arr2 = [1,2,5,7,9], arr3 = [1,3,4,5,8]\n",
    "\n",
    "Output: [1,5]\n",
    "\n",
    "**Explanation:** Only 1 and 5 appeared in the three arrays.\n"
   ]
  },
  {
   "cell_type": "code",
   "execution_count": 3,
   "id": "8ecd411f",
   "metadata": {},
   "outputs": [
    {
     "name": "stdout",
     "output_type": "stream",
     "text": [
      "[1, 5]\n"
     ]
    }
   ],
   "source": [
    "def find_common_elements(arr1, arr2, arr3):\n",
    "  \"\"\"\n",
    "  Finds the common elements in the three given arrays.\n",
    "\n",
    "  Args:\n",
    "    arr1: The first array.\n",
    "    arr2: The second array.\n",
    "    arr3: The third array.\n",
    "\n",
    "  Returns:\n",
    "    A list of the common elements.\n",
    "  \"\"\"\n",
    "\n",
    "  # Initialize the result list.\n",
    "  result = []\n",
    "\n",
    "  # Iterate over the elements of arr1.\n",
    "  for element in arr1:\n",
    "\n",
    "    # Check if the element is present in arr2 and arr3.\n",
    "    if element in arr2 and element in arr3:\n",
    "\n",
    "      # Add the element to the result list.\n",
    "      result.append(element)\n",
    "\n",
    "  # Sort the result list.\n",
    "  result.sort()\n",
    "\n",
    "  # Return the result list.\n",
    "  return result\n",
    "\n",
    "\n",
    "# Test cases.\n",
    "\n",
    "arr1 = [1, 2, 3, 4, 5]\n",
    "arr2 = [1, 2, 5, 7, 9]\n",
    "arr3 = [1, 3, 4, 5, 8]\n",
    "\n",
    "print(find_common_elements(arr1, arr2, arr3))\n",
    "\n"
   ]
  },
  {
   "cell_type": "markdown",
   "id": "a4c5858a",
   "metadata": {},
   "source": [
    "The time complexity of this algorithm is O(n), where n is the length of the longest array. The space complexity of this algorithm is O(n), where n is the number of common elements."
   ]
  },
  {
   "cell_type": "markdown",
   "id": "7d51ce92",
   "metadata": {},
   "source": [
    "💡 **Question 2**\n",
    "\n",
    "Given two **0-indexed** integer arrays nums1 and nums2, return *a list* answer *of size* 2 *where:*\n",
    "\n",
    "- answer[0] *is a list of all **distinct** integers in* nums1 *which are **not** present in* nums2*.*\n",
    "- answer[1] *is a list of all **distinct** integers in* nums2 *which are **not** present in* nums1.\n",
    "\n",
    "**Note** that the integers in the lists may be returned in **any** order.\n",
    "\n",
    "**Example 1:**\n",
    "\n",
    "**Input:** nums1 = [1,2,3], nums2 = [2,4,6]\n",
    "\n",
    "**Output:** [[1,3],[4,6]]\n",
    "\n",
    "**Explanation:**\n",
    "\n",
    "For nums1, nums1[1] = 2 is present at index 0 of nums2, whereas nums1[0] = 1 and nums1[2] = 3 are not present in nums2. Therefore, answer[0] = [1,3].\n",
    "\n",
    "For nums2, nums2[0] = 2 is present at index 1 of nums1, whereas nums2[1] = 4 and nums2[2] = 6 are not present in nums2. Therefore, answer[1] = [4,6].\n"
   ]
  },
  {
   "cell_type": "code",
   "execution_count": 4,
   "id": "9d8b8dd4",
   "metadata": {},
   "outputs": [],
   "source": [
    "def find_unique_numbers(nums1, nums2):\n",
    " # Get the set of all unique numbers in nums1.\n",
    "  nums1_set = set(nums1)\n",
    "\n",
    "  # Get the set of all unique numbers in nums2.\n",
    "  nums2_set = set(nums2)\n",
    "\n",
    "  # Get the difference between the two sets.\n",
    "  difference = nums1_set - nums2_set\n",
    "\n",
    "  # Convert the difference to a list.\n",
    "  difference_list = list(difference)\n",
    "\n",
    "  # Get the difference between the two sets in the reverse order.\n",
    "  difference_in_reverse = nums2_set - nums1_set\n",
    "\n",
    "  # Convert the difference in the reverse order to a list.\n",
    "  difference_in_reverse_list = list(difference_in_reverse)\n",
    "\n",
    "  # Return the two lists.\n",
    "  return [difference_list, difference_in_reverse_list]\n"
   ]
  },
  {
   "cell_type": "code",
   "execution_count": 5,
   "id": "bb839520",
   "metadata": {},
   "outputs": [
    {
     "name": "stdout",
     "output_type": "stream",
     "text": [
      "[[1, 3], [4, 6]]\n"
     ]
    }
   ],
   "source": [
    "nums1 = [1, 2, 3]\n",
    "nums2 = [2, 4, 6]\n",
    "\n",
    "answer = find_unique_numbers(nums1, nums2)\n",
    "\n",
    "print(answer)\n"
   ]
  },
  {
   "cell_type": "markdown",
   "id": "cf5d759a",
   "metadata": {},
   "source": [
    "💡 **Question 3**\n",
    "Given a 2D integer array matrix, return *the **transpose** of* matrix.\n",
    "\n",
    "The **transpose** of a matrix is the matrix flipped over its main diagonal, switching the matrix's row and column indices.\n",
    "\n",
    "**Example 1:**\n",
    "\n",
    "Input: matrix = [[1,2,3],[4,5,6],[7,8,9]]\n",
    "\n",
    "Output: [[1,4,7],[2,5,8],[3,6,9]]\n"
   ]
  },
  {
   "cell_type": "code",
   "execution_count": 6,
   "id": "daf713a5",
   "metadata": {},
   "outputs": [],
   "source": [
    "def transpose_matrix(matrix):\n",
    "  \"\"\"\n",
    "  Transposes a 2D integer array.\n",
    "\n",
    "  Args:\n",
    "    matrix: The 2D integer array.\n",
    "\n",
    "  Returns:\n",
    "    The transpose of the matrix.\n",
    "  \"\"\"\n",
    "\n",
    "  # Get the number of rows in the matrix.\n",
    "  num_rows = len(matrix)\n",
    "\n",
    "  # Get the number of columns in the matrix.\n",
    "  num_columns = len(matrix[0])\n",
    "\n",
    "  # Create a new 2D array to store the transpose of the matrix.\n",
    "  transpose_matrix = [[0 for i in range(num_columns)] for j in range(num_rows)]\n",
    "\n",
    "  # Iterate over the rows of the matrix.\n",
    "  for i in range(num_rows):\n",
    "    # Iterate over the columns of the matrix.\n",
    "    for j in range(num_columns):\n",
    "      # Set the element at the i-th row and j-th column of the transpose matrix to the element at the j-th row and i-th column of the original matrix.\n",
    "      transpose_matrix[i][j] = matrix[j][i]\n",
    "\n",
    "  # Return the transpose of the matrix.\n",
    "  return transpose_matrix\n"
   ]
  },
  {
   "cell_type": "code",
   "execution_count": 7,
   "id": "ad6c6f20",
   "metadata": {},
   "outputs": [
    {
     "name": "stdout",
     "output_type": "stream",
     "text": [
      "[[1, 4, 7], [2, 5, 8], [3, 6, 9]]\n"
     ]
    }
   ],
   "source": [
    "matrix = [[1,2,3],[4,5,6],[7,8,9]]\n",
    "\n",
    "transpose_matrix = transpose_matrix(matrix)\n",
    "\n",
    "print(transpose_matrix)\n"
   ]
  },
  {
   "cell_type": "markdown",
   "id": "365e3e4b",
   "metadata": {},
   "source": [
    "💡 **Question 4**\n",
    "Given an integer array nums of 2n integers, group these integers into n pairs (a1, b1), (a2, b2), ..., (an, bn) such that the sum of min(ai, bi) for all i is **maximized**. Return *the maximized sum*.\n",
    "\n",
    "**Example 1:**\n",
    "\n",
    "Input: nums = [1,4,3,2]\n",
    "\n",
    "Output: 4\n",
    "\n",
    "**Explanation:** All possible pairings (ignoring the ordering of elements) are:\n",
    "\n",
    "1. (1, 4), (2, 3) -> min(1, 4) + min(2, 3) = 1 + 2 = 3\n",
    "\n",
    "2. (1, 3), (2, 4) -> min(1, 3) + min(2, 4) = 1 + 2 = 3\n",
    "\n",
    "3. (1, 2), (3, 4) -> min(1, 2) + min(3, 4) = 1 + 3 = 4\n",
    "\n",
    "So the maximum possible sum is 4.\n"
   ]
  },
  {
   "cell_type": "code",
   "execution_count": 8,
   "id": "b7dfd5f5",
   "metadata": {},
   "outputs": [],
   "source": [
    "def max_pair_sum(nums):\n",
    "\n",
    "  # Sort the array in ascending order.\n",
    "  nums.sort()\n",
    "\n",
    "  # Initialize the sum of min(ai, bi) for all i.\n",
    "  sum_of_min = 0\n",
    "\n",
    "  # Iterate over the array, pairing up the first and last element, then the second and second-to-last element, and so on.\n",
    "  for i in range(0, len(nums), 2):\n",
    "    # Set the sum of min(ai, bi) for all i to the sum of min(ai, bi) for all i up to the current index, plus the minimum of the current and next element.\n",
    "    sum_of_min += min(nums[i], nums[i + 1])\n",
    "\n",
    "  # Return the sum of min(ai, bi) for all i.\n",
    "  return sum_of_min\n"
   ]
  },
  {
   "cell_type": "code",
   "execution_count": 9,
   "id": "8d4386fd",
   "metadata": {},
   "outputs": [
    {
     "name": "stdout",
     "output_type": "stream",
     "text": [
      "4\n"
     ]
    }
   ],
   "source": [
    "nums = [1,4,3,2]\n",
    "\n",
    "max_sum = max_pair_sum(nums)\n",
    "\n",
    "print(max_sum)\n"
   ]
  },
  {
   "cell_type": "markdown",
   "id": "36d8a27a",
   "metadata": {},
   "source": [
    "💡 **Question 5**\n",
    "You have n coins and you want to build a staircase with these coins. The staircase consists of k rows where the ith row has exactly i coins. The last row of the staircase **may be** incomplete.\n",
    "\n",
    "Given the integer n, return *the number of **complete rows** of the staircase you will build*.\n",
    "\n",
    "**Example 1:**\n",
    "\n",
    "[]()\n",
    "\n",
    "![v2.jpg](https://s3-us-west-2.amazonaws.com/secure.notion-static.com/4bd91cfa-d2b1-47b3-8197-a72e8dcfff4b/v2.jpg)\n",
    "\n",
    "**Input:** n = 5\n",
    "\n",
    "**Output:** 2\n",
    "\n",
    "**Explanation:** Because the 3rd row is incomplete, we return 2.\n"
   ]
  },
  {
   "cell_type": "code",
   "execution_count": 14,
   "id": "42d9084f",
   "metadata": {},
   "outputs": [],
   "source": [
    "def find_complete_rows(n):\n",
    "    left = 0\n",
    "    right = n\n",
    "\n",
    "    while left <= right:\n",
    "        mid = (left + right) // 2\n",
    "        curr_sum = (mid * (mid + 1)) // 2\n",
    "\n",
    "        if curr_sum <= n:\n",
    "            left = mid + 1\n",
    "        else:\n",
    "            right = mid - 1\n",
    "\n",
    "    return right\n",
    "\n"
   ]
  },
  {
   "cell_type": "code",
   "execution_count": 15,
   "id": "26643a68",
   "metadata": {},
   "outputs": [
    {
     "name": "stdout",
     "output_type": "stream",
     "text": [
      "2\n"
     ]
    }
   ],
   "source": [
    "n = 5\n",
    "\n",
    "result = find_complete_rows(n)\n",
    "print(result)  # Output: 2\n"
   ]
  },
  {
   "cell_type": "markdown",
   "id": "7a1017ea",
   "metadata": {},
   "source": [
    "💡 **Question 6**\n",
    "Given an integer array nums sorted in **non-decreasing** order, return *an array of **the squares of each number** sorted in non-decreasing order*.\n",
    "\n",
    "**Example 1:**\n",
    "\n",
    "Input: nums = [-4,-1,0,3,10]\n",
    "\n",
    "Output: [0,1,9,16,100]\n",
    "\n",
    "**Explanation:** After squaring, the array becomes [16,1,0,9,100].\n",
    "After sorting, it becomes [0,1,9,16,100]"
   ]
  },
  {
   "cell_type": "code",
   "execution_count": 16,
   "id": "6e26185c",
   "metadata": {},
   "outputs": [],
   "source": [
    "def square_sorted_array(nums):\n",
    " \n",
    "\n",
    "  # Square each number in the array.\n",
    "  squared_nums = [num ** 2 for num in nums]\n",
    "\n",
    "  # Sort the squared array in non-decreasing order.\n",
    "  squared_nums.sort()\n",
    "\n",
    "  # Return the sorted squared array.\n",
    "  return squared_nums\n"
   ]
  },
  {
   "cell_type": "code",
   "execution_count": 17,
   "id": "3171f23b",
   "metadata": {},
   "outputs": [
    {
     "name": "stdout",
     "output_type": "stream",
     "text": [
      "[0, 1, 9, 16, 100]\n"
     ]
    }
   ],
   "source": [
    "nums = [-4,-1,0,3,10]\n",
    "\n",
    "squared_nums = square_sorted_array(nums)\n",
    "\n",
    "print(squared_nums)\n"
   ]
  },
  {
   "cell_type": "markdown",
   "id": "43ec0f80",
   "metadata": {},
   "source": [
    "💡 **Question 7**\n",
    "You are given an m x n matrix M initialized with all 0's and an array of operations ops, where ops[i] = [ai, bi] means M[x][y] should be incremented by one for all 0 <= x < ai and 0 <= y < bi.\n",
    "\n",
    "Count and return *the number of maximum integers in the matrix after performing all the operations*\n",
    "\n",
    "**Example 1:**\n",
    "\n",
    "![q4.jpg](https://s3-us-west-2.amazonaws.com/secure.notion-static.com/4d0890d0-7bc7-4f59-be8e-352d9f3c1c52/q4.jpg)\n",
    "\n",
    "**Input:** m = 3, n = 3, ops = [[2,2],[3,3]]\n",
    "\n",
    "**Output:** 4\n",
    "\n",
    "**Explanation:** The maximum integer in M is 2, and there are four of it in M. So return 4.\n"
   ]
  },
  {
   "cell_type": "code",
   "execution_count": 18,
   "id": "3afea2e9",
   "metadata": {},
   "outputs": [],
   "source": [
    "def count_max_integers(m, n, ops):\n",
    "\n",
    "  # Initialize the matrix with all 0's.\n",
    "  matrix = [[0 for i in range(n)] for j in range(m)]\n",
    "\n",
    "  # Iterate over the operations.\n",
    "  for op in ops:\n",
    "    # Increment the matrix by one for all 0 <= x < op[0] and 0 <= y < op[1].\n",
    "    for x in range(op[0]):\n",
    "      for y in range(op[1]):\n",
    "        matrix[x][y] += 1\n",
    "\n",
    "  # Find the maximum integer in the matrix.\n",
    "  max_integer = max([max(row) for row in matrix])\n",
    "\n",
    "  # Count the number of times the maximum integer appears in the matrix.\n",
    "  count = 0\n",
    "  for row in matrix:\n",
    "    count += row.count(max_integer)\n",
    "\n",
    "  # Return the number of maximum integers in the matrix.\n",
    "  return count\n"
   ]
  },
  {
   "cell_type": "code",
   "execution_count": 19,
   "id": "012d8c74",
   "metadata": {},
   "outputs": [
    {
     "name": "stdout",
     "output_type": "stream",
     "text": [
      "4\n"
     ]
    }
   ],
   "source": [
    "m = 3\n",
    "n = 3\n",
    "ops = [[2,2],[3,3]]\n",
    "\n",
    "count = count_max_integers(m, n, ops)\n",
    "\n",
    "print(count)\n"
   ]
  },
  {
   "cell_type": "markdown",
   "id": "675fd9a9",
   "metadata": {},
   "source": [
    "💡 **Question 8**\n",
    "\n",
    "Given the array nums consisting of 2n elements in the form [x1,x2,...,xn,y1,y2,...,yn].\n",
    "\n",
    "*Return the array in the form* [x1,y1,x2,y2,...,xn,yn].\n",
    "\n",
    "**Example 1:**\n",
    "\n",
    "**Input:** nums = [2,5,1,3,4,7], n = 3\n",
    "\n",
    "**Output:** [2,3,5,4,1,7]\n",
    "\n",
    "**Explanation:** Since x1=2, x2=5, x3=1, y1=3, y2=4, y3=7 then the answer is [2,3,5,4,1,7]."
   ]
  },
  {
   "cell_type": "code",
   "execution_count": 22,
   "id": "464338cd",
   "metadata": {},
   "outputs": [],
   "source": [
    "def rearrange_array(nums, n):\n",
    "    result = []\n",
    "\n",
    "    for i in range(n):\n",
    "        result.append(nums[i])\n",
    "        result.append(nums[i + n])\n",
    "\n",
    "    return result\n",
    "\n"
   ]
  },
  {
   "cell_type": "code",
   "execution_count": 23,
   "id": "21ccd067",
   "metadata": {},
   "outputs": [
    {
     "name": "stdout",
     "output_type": "stream",
     "text": [
      "[2, 3, 5, 4, 1, 7]\n"
     ]
    }
   ],
   "source": [
    "nums = [2, 5, 1, 3, 4, 7]\n",
    "n = 3\n",
    "\n",
    "result = rearrange_array(nums, n)\n",
    "print(result)  # Output: [2, 3, 5, 4, 1, 7]\n"
   ]
  }
 ],
 "metadata": {
  "kernelspec": {
   "display_name": "Python 3 (ipykernel)",
   "language": "python",
   "name": "python3"
  },
  "language_info": {
   "codemirror_mode": {
    "name": "ipython",
    "version": 3
   },
   "file_extension": ".py",
   "mimetype": "text/x-python",
   "name": "python",
   "nbconvert_exporter": "python",
   "pygments_lexer": "ipython3",
   "version": "3.9.12"
  }
 },
 "nbformat": 4,
 "nbformat_minor": 5
}
